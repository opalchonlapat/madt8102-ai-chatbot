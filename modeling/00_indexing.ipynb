{
 "cells": [
  {
   "cell_type": "markdown",
   "id": "f2bb4004-34b1-4fbf-ac49-95f217ef1be2",
   "metadata": {},
   "source": [
    "# Indexing Data\n",
    "---\n",
    "Prepare policy data and employee single view data for AI agent."
   ]
  },
  {
   "cell_type": "code",
   "execution_count": 1,
   "id": "63a686cf-8df1-4244-8024-e063a298c345",
   "metadata": {},
   "outputs": [],
   "source": [
    "from dotenv import load_dotenv"
   ]
  },
  {
   "cell_type": "code",
   "execution_count": 2,
   "id": "d71e20f3-bd63-4598-a9b3-0324fe02c39d",
   "metadata": {},
   "outputs": [
    {
     "data": {
      "text/plain": [
       "True"
      ]
     },
     "execution_count": 2,
     "metadata": {},
     "output_type": "execute_result"
    }
   ],
   "source": [
    "load_dotenv(override=True)"
   ]
  },
  {
   "cell_type": "markdown",
   "id": "c8da2031-8c39-4015-9ad6-01ab5156b7d6",
   "metadata": {},
   "source": [
    "## Policy Data\n",
    "---\n",
    "I will prepare policy data as vector database and then convert it to retrieval tool for AI agent."
   ]
  },
  {
   "cell_type": "code",
   "execution_count": 3,
   "id": "07daf42b-ef01-4dce-803a-1f7293bc8afc",
   "metadata": {},
   "outputs": [
    {
     "name": "stdout",
     "output_type": "stream",
     "text": [
      "10272\n"
     ]
    }
   ],
   "source": [
    "with open('../data/input/attendance_policy.md', 'r') as f:\n",
    "    policy_text = f.read()\n",
    "print(len(policy_text))"
   ]
  },
  {
   "cell_type": "code",
   "execution_count": 4,
   "id": "bf3869db-195b-4f11-a139-7ac8aceede08",
   "metadata": {},
   "outputs": [
    {
     "name": "stdout",
     "output_type": "stream",
     "text": [
      "**Company Attendance Policy**\n",
      "\n",
      "**1. Purpose and Scope**  \n",
      "The Attendance Policy aims to set clear expectations for employee attendance, promote a productive work environment, and ensure fairness and consistency across the organization. Attendance is a critical factor that impacts the workflow, team dynamics, and overall company performance. This policy applies to all full-time, part-time, and contract employees, regardless of department or seniority, and ensures that all individuals are aware of their responsibilities regarding attendance.\n",
      "\n",
      "**2. General Expectations**  \n",
      "Employees are expected to maintain regular, punctual attendance to ensure smooth workflow and minimal disruption to team activities. Consistent attendance is essential for both individual performance and overall team productivity. Employees should report to work on time, be ready to fulfill their responsibilities during assigned hours, and demonstrate reliability by maintaining a predictable work schedule. If an employe\n"
     ]
    }
   ],
   "source": [
    "print(policy_text[:1000])"
   ]
  },
  {
   "cell_type": "code",
   "execution_count": 5,
   "id": "0f01d48f-4985-4281-bb45-7cb3de897367",
   "metadata": {},
   "outputs": [],
   "source": [
    "import re"
   ]
  },
  {
   "cell_type": "code",
   "execution_count": 6,
   "id": "4e45dce5-f25f-48cf-b956-e33d12908b6b",
   "metadata": {},
   "outputs": [],
   "source": [
    "pattern = r'(\\*\\*\\d+\\. [^*]+\\*\\*[^*]+(?:\\n[^*]+)*)'\n",
    "matches = re.findall(pattern, policy_text)"
   ]
  },
  {
   "cell_type": "code",
   "execution_count": 7,
   "id": "a7218c71-20ee-4b82-a3cc-6ad878dd92b9",
   "metadata": {},
   "outputs": [
    {
     "data": {
      "text/plain": [
       "13"
      ]
     },
     "execution_count": 7,
     "metadata": {},
     "output_type": "execute_result"
    }
   ],
   "source": [
    "# expected 13 policies\n",
    "len(matches)"
   ]
  },
  {
   "cell_type": "code",
   "execution_count": 8,
   "id": "965348dc-c4ce-4bf3-897d-56a533b08ac6",
   "metadata": {},
   "outputs": [
    {
     "name": "stdout",
     "output_type": "stream",
     "text": [
      "**1. Purpose and Scope**  \n",
      "The Attendance Policy aims to set clear expectations for employee attendance, promote a productive work environment, and ensure fairness and consistency across the organization. Attendance is a critical factor that impacts the workflow, team dynamics, and overall company performance. This policy applies to all full-time, part-time, and contract employees, regardless of department or seniority, and ensures that all individuals are aware of their responsibilities regarding attendance.\n",
      "--------------------\n",
      "**2. General Expectations**  \n",
      "Employees are expected to maintain regular, punctual attendance to ensure smooth workflow and minimal disruption to team activities. Consistent attendance is essential for both individual performance and overall team productivity. Employees should report to work on time, be ready to fulfill their responsibilities during assigned hours, and demonstrate reliability by maintaining a predictable work schedule. If an employee foresees any issues with attendance, they are encouraged to communicate with their supervisor to address potential challenges proactively.\n",
      "--------------------\n",
      "**3. Work Schedule**  \n",
      "- Regular working hours are from 9:00 AM to 5:00 PM, Monday through Friday. Employees are expected to adhere to these hours unless otherwise specified.  \n",
      "- Employees are expected to take scheduled breaks (e.g., a 1-hour lunch break and two 15-minute breaks) and ensure adherence to standard working hours. Breaks are designed to promote well-being, productivity, and mental refreshment, which in turn leads to better performance and focus.\n",
      "- Supervisors may occasionally adjust work hours to accommodate specific project needs, deadlines, or operational requirements. Employees will be informed in advance regarding any schedule modifications.\n",
      "--------------------\n"
     ]
    }
   ],
   "source": [
    "for m in matches[:3]:\n",
    "    print(m.strip())\n",
    "    print(\"-\" * 20)"
   ]
  },
  {
   "cell_type": "code",
   "execution_count": 9,
   "id": "02dbbad6-8941-4e1d-bfd1-e338a0e245f6",
   "metadata": {},
   "outputs": [],
   "source": [
    "policy_chunks = [m.strip() for m in matches]"
   ]
  },
  {
   "cell_type": "code",
   "execution_count": 10,
   "id": "cc38d14f-d8a6-42c2-b3df-3f6e7028aa17",
   "metadata": {},
   "outputs": [],
   "source": [
    "from langchain_core.documents import Document"
   ]
  },
  {
   "cell_type": "code",
   "execution_count": 11,
   "id": "f9627b85-0e1f-4d7e-8208-1a458aaf2d45",
   "metadata": {},
   "outputs": [
    {
     "name": "stdout",
     "output_type": "stream",
     "text": [
      "13\n"
     ]
    }
   ],
   "source": [
    "policy_docs = []\n",
    "for c in policy_chunks:\n",
    "    doc = Document(page_content=c)\n",
    "    policy_docs.append(doc)\n",
    "\n",
    "print(len(policy_docs))"
   ]
  },
  {
   "cell_type": "code",
   "execution_count": 12,
   "id": "488d6d40-c9cf-42f8-b096-ec149750515f",
   "metadata": {},
   "outputs": [
    {
     "data": {
      "text/plain": [
       "Document(metadata={}, page_content='**1. Purpose and Scope**  \\nThe Attendance Policy aims to set clear expectations for employee attendance, promote a productive work environment, and ensure fairness and consistency across the organization. Attendance is a critical factor that impacts the workflow, team dynamics, and overall company performance. This policy applies to all full-time, part-time, and contract employees, regardless of department or seniority, and ensures that all individuals are aware of their responsibilities regarding attendance.')"
      ]
     },
     "execution_count": 12,
     "metadata": {},
     "output_type": "execute_result"
    }
   ],
   "source": [
    "policy_docs[0]"
   ]
  },
  {
   "cell_type": "code",
   "execution_count": 13,
   "id": "ff14d601-f45a-498f-82e4-f1099ed1a094",
   "metadata": {},
   "outputs": [],
   "source": [
    "from langchain_openai import AzureOpenAIEmbeddings"
   ]
  },
  {
   "cell_type": "code",
   "execution_count": 14,
   "id": "4dc6dace-d327-4c50-ac58-1ad995ede50a",
   "metadata": {},
   "outputs": [],
   "source": [
    "# initialize\n",
    "openai_api_version = \"2024-02-01\"\n",
    "embedding_azure_deployment = \"text-embedding-3-large\"\n",
    "embeddings = AzureOpenAIEmbeddings(\n",
    "    azure_deployment=embedding_azure_deployment,\n",
    "    openai_api_version=openai_api_version,\n",
    ")"
   ]
  },
  {
   "cell_type": "code",
   "execution_count": 15,
   "id": "3490f761-ff78-4f59-843d-39748433bee8",
   "metadata": {},
   "outputs": [],
   "source": [
    "from langchain_chroma import Chroma"
   ]
  },
  {
   "cell_type": "code",
   "execution_count": 16,
   "id": "577ea0eb-4edc-456f-81c4-e136532f3a8b",
   "metadata": {},
   "outputs": [],
   "source": [
    "vector_store = Chroma(\n",
    "    collection_name=\"attendance_policy_v3\",\n",
    "    embedding_function=embeddings,\n",
    "    persist_directory=\"./vector_store\",\n",
    ")"
   ]
  },
  {
   "cell_type": "code",
   "execution_count": 17,
   "id": "2e2a628d-e478-4452-b4f2-6113513bbcbc",
   "metadata": {},
   "outputs": [
    {
     "data": {
      "text/plain": [
       "['9bfe02d3-a785-430a-a5c4-f8a3d501b277',\n",
       " '5544c0af-77ce-4221-8063-3540d8c0e256',\n",
       " 'ad7bbfba-7699-4f52-8eb8-3d1987538fce',\n",
       " '6d9ba569-d3a9-49f7-9bfd-b28a00a2b54f',\n",
       " '1f70f67b-46f9-473b-a4b5-45486a1579f0',\n",
       " 'daf6bf3a-6b4a-483e-b9a6-fcc10a581bd9',\n",
       " '577b0f28-3136-4243-a98e-8604a33debe0',\n",
       " 'd96e337d-e392-4c3a-ae81-c3028eb8ae15',\n",
       " '22f14aae-0ccb-49aa-9a59-b3f2bc478608',\n",
       " 'ab653aa0-13eb-4850-8fe1-a37f39420393',\n",
       " '4f18852e-3a59-45c7-bf59-39f91fa7ac90',\n",
       " '3b481330-8492-47be-bfa4-043522518942',\n",
       " 'f7503c30-9a3f-4d06-831f-1e7c1ed8f2f1']"
      ]
     },
     "execution_count": 17,
     "metadata": {},
     "output_type": "execute_result"
    }
   ],
   "source": [
    "vector_store.add_documents(policy_docs)"
   ]
  },
  {
   "cell_type": "code",
   "execution_count": 18,
   "id": "b2cb123c-3253-4f68-a2ed-5bc4e0a12693",
   "metadata": {},
   "outputs": [
    {
     "data": {
      "text/plain": [
       "13"
      ]
     },
     "execution_count": 18,
     "metadata": {},
     "output_type": "execute_result"
    }
   ],
   "source": [
    "vector_store._collection.count()"
   ]
  },
  {
   "cell_type": "markdown",
   "id": "5ffe04b7-ad3e-425b-bae0-b4a84a1f1832",
   "metadata": {},
   "source": [
    "## Employee Single View\n",
    "---\n",
    "LangChain recommends to interact with CSV data by SQL then I will crete `sqlite` database for the employee single view data."
   ]
  },
  {
   "cell_type": "code",
   "execution_count": 3,
   "id": "50e9ccdd-6917-4edf-ad25-07b0681ae7e2",
   "metadata": {},
   "outputs": [],
   "source": [
    "import pandas as pd"
   ]
  },
  {
   "cell_type": "code",
   "execution_count": 5,
   "id": "5fc6cc25-5d82-4c04-8ee4-be85038119ef",
   "metadata": {},
   "outputs": [
    {
     "data": {
      "text/html": [
       "<div>\n",
       "<style scoped>\n",
       "    .dataframe tbody tr th:only-of-type {\n",
       "        vertical-align: middle;\n",
       "    }\n",
       "\n",
       "    .dataframe tbody tr th {\n",
       "        vertical-align: top;\n",
       "    }\n",
       "\n",
       "    .dataframe thead th {\n",
       "        text-align: right;\n",
       "    }\n",
       "</style>\n",
       "<table border=\"1\" class=\"dataframe\">\n",
       "  <thead>\n",
       "    <tr style=\"text-align: right;\">\n",
       "      <th></th>\n",
       "      <th>emp_id</th>\n",
       "      <th>emp_firstname</th>\n",
       "      <th>emp_lastname</th>\n",
       "      <th>team_id</th>\n",
       "      <th>team_name</th>\n",
       "      <th>department_id</th>\n",
       "      <th>department_name</th>\n",
       "      <th>card_id</th>\n",
       "      <th>on_site_days</th>\n",
       "      <th>is_on_site</th>\n",
       "      <th>...</th>\n",
       "      <th>performance_last_3_months</th>\n",
       "      <th>performance_last_6_months</th>\n",
       "      <th>performance_last_12_months</th>\n",
       "      <th>performance_change_3_to_12_months</th>\n",
       "      <th>performance_grade</th>\n",
       "      <th>last_performance_grade</th>\n",
       "      <th>resign</th>\n",
       "      <th>attrition_score</th>\n",
       "      <th>risk_group</th>\n",
       "      <th>resign_in_3_months</th>\n",
       "    </tr>\n",
       "  </thead>\n",
       "  <tbody>\n",
       "    <tr>\n",
       "      <th>0</th>\n",
       "      <td>1</td>\n",
       "      <td>Robert</td>\n",
       "      <td>Price</td>\n",
       "      <td>7</td>\n",
       "      <td>QA</td>\n",
       "      <td>8</td>\n",
       "      <td>Customer Support</td>\n",
       "      <td>4835012087320540</td>\n",
       "      <td>135</td>\n",
       "      <td>1</td>\n",
       "      <td>...</td>\n",
       "      <td>98.98</td>\n",
       "      <td>78.80</td>\n",
       "      <td>71.51</td>\n",
       "      <td>14.62</td>\n",
       "      <td>D</td>\n",
       "      <td>A</td>\n",
       "      <td>True</td>\n",
       "      <td>0.799646</td>\n",
       "      <td>Very High Risk</td>\n",
       "      <td>True</td>\n",
       "    </tr>\n",
       "    <tr>\n",
       "      <th>1</th>\n",
       "      <td>2</td>\n",
       "      <td>Frances</td>\n",
       "      <td>Cochran</td>\n",
       "      <td>1</td>\n",
       "      <td>AI</td>\n",
       "      <td>2</td>\n",
       "      <td>Engineering</td>\n",
       "      <td>4657016181544010</td>\n",
       "      <td>77</td>\n",
       "      <td>1</td>\n",
       "      <td>...</td>\n",
       "      <td>86.35</td>\n",
       "      <td>54.52</td>\n",
       "      <td>54.48</td>\n",
       "      <td>-14.77</td>\n",
       "      <td>B</td>\n",
       "      <td>F</td>\n",
       "      <td>False</td>\n",
       "      <td>0.029061</td>\n",
       "      <td>Low Risk</td>\n",
       "      <td>False</td>\n",
       "    </tr>\n",
       "    <tr>\n",
       "      <th>2</th>\n",
       "      <td>3</td>\n",
       "      <td>Jonathan</td>\n",
       "      <td>Perry</td>\n",
       "      <td>9</td>\n",
       "      <td>Security</td>\n",
       "      <td>6</td>\n",
       "      <td>Product</td>\n",
       "      <td>4736011345354630</td>\n",
       "      <td>148</td>\n",
       "      <td>1</td>\n",
       "      <td>...</td>\n",
       "      <td>53.66</td>\n",
       "      <td>91.83</td>\n",
       "      <td>94.40</td>\n",
       "      <td>-1.80</td>\n",
       "      <td>F</td>\n",
       "      <td>D</td>\n",
       "      <td>False</td>\n",
       "      <td>0.607111</td>\n",
       "      <td>High Risk</td>\n",
       "      <td>False</td>\n",
       "    </tr>\n",
       "    <tr>\n",
       "      <th>3</th>\n",
       "      <td>4</td>\n",
       "      <td>Jon</td>\n",
       "      <td>Crawford</td>\n",
       "      <td>8</td>\n",
       "      <td>Mobile</td>\n",
       "      <td>5</td>\n",
       "      <td>Finance</td>\n",
       "      <td>4718662102507140</td>\n",
       "      <td>188</td>\n",
       "      <td>1</td>\n",
       "      <td>...</td>\n",
       "      <td>77.96</td>\n",
       "      <td>77.02</td>\n",
       "      <td>59.11</td>\n",
       "      <td>14.33</td>\n",
       "      <td>B</td>\n",
       "      <td>C</td>\n",
       "      <td>False</td>\n",
       "      <td>0.027803</td>\n",
       "      <td>Low Risk</td>\n",
       "      <td>False</td>\n",
       "    </tr>\n",
       "    <tr>\n",
       "      <th>4</th>\n",
       "      <td>5</td>\n",
       "      <td>Daniel</td>\n",
       "      <td>Smith</td>\n",
       "      <td>1</td>\n",
       "      <td>AI</td>\n",
       "      <td>5</td>\n",
       "      <td>Finance</td>\n",
       "      <td>4354103335855230</td>\n",
       "      <td>104</td>\n",
       "      <td>1</td>\n",
       "      <td>...</td>\n",
       "      <td>59.52</td>\n",
       "      <td>83.14</td>\n",
       "      <td>76.53</td>\n",
       "      <td>13.46</td>\n",
       "      <td>F</td>\n",
       "      <td>A</td>\n",
       "      <td>True</td>\n",
       "      <td>0.920683</td>\n",
       "      <td>Very High Risk</td>\n",
       "      <td>True</td>\n",
       "    </tr>\n",
       "    <tr>\n",
       "      <th>...</th>\n",
       "      <td>...</td>\n",
       "      <td>...</td>\n",
       "      <td>...</td>\n",
       "      <td>...</td>\n",
       "      <td>...</td>\n",
       "      <td>...</td>\n",
       "      <td>...</td>\n",
       "      <td>...</td>\n",
       "      <td>...</td>\n",
       "      <td>...</td>\n",
       "      <td>...</td>\n",
       "      <td>...</td>\n",
       "      <td>...</td>\n",
       "      <td>...</td>\n",
       "      <td>...</td>\n",
       "      <td>...</td>\n",
       "      <td>...</td>\n",
       "      <td>...</td>\n",
       "      <td>...</td>\n",
       "      <td>...</td>\n",
       "      <td>...</td>\n",
       "    </tr>\n",
       "    <tr>\n",
       "      <th>195</th>\n",
       "      <td>196</td>\n",
       "      <td>Cynthia</td>\n",
       "      <td>Barnes</td>\n",
       "      <td>4</td>\n",
       "      <td>Backend</td>\n",
       "      <td>4</td>\n",
       "      <td>Marketing</td>\n",
       "      <td>4391645925253450</td>\n",
       "      <td>181</td>\n",
       "      <td>1</td>\n",
       "      <td>...</td>\n",
       "      <td>62.51</td>\n",
       "      <td>91.46</td>\n",
       "      <td>59.02</td>\n",
       "      <td>-17.05</td>\n",
       "      <td>C</td>\n",
       "      <td>D</td>\n",
       "      <td>True</td>\n",
       "      <td>0.891173</td>\n",
       "      <td>Very High Risk</td>\n",
       "      <td>True</td>\n",
       "    </tr>\n",
       "    <tr>\n",
       "      <th>196</th>\n",
       "      <td>197</td>\n",
       "      <td>Wayne</td>\n",
       "      <td>Curtis</td>\n",
       "      <td>5</td>\n",
       "      <td>Data Science</td>\n",
       "      <td>5</td>\n",
       "      <td>Finance</td>\n",
       "      <td>4164274234036860</td>\n",
       "      <td>103</td>\n",
       "      <td>0</td>\n",
       "      <td>...</td>\n",
       "      <td>67.18</td>\n",
       "      <td>94.06</td>\n",
       "      <td>84.60</td>\n",
       "      <td>4.94</td>\n",
       "      <td>B</td>\n",
       "      <td>F</td>\n",
       "      <td>False</td>\n",
       "      <td>0.054471</td>\n",
       "      <td>Low Risk</td>\n",
       "      <td>False</td>\n",
       "    </tr>\n",
       "    <tr>\n",
       "      <th>197</th>\n",
       "      <td>198</td>\n",
       "      <td>Jorge</td>\n",
       "      <td>Miller</td>\n",
       "      <td>7</td>\n",
       "      <td>QA</td>\n",
       "      <td>8</td>\n",
       "      <td>Customer Support</td>\n",
       "      <td>4910751946941610</td>\n",
       "      <td>184</td>\n",
       "      <td>0</td>\n",
       "      <td>...</td>\n",
       "      <td>87.21</td>\n",
       "      <td>88.91</td>\n",
       "      <td>97.01</td>\n",
       "      <td>-2.80</td>\n",
       "      <td>B</td>\n",
       "      <td>B</td>\n",
       "      <td>False</td>\n",
       "      <td>0.044627</td>\n",
       "      <td>Low Risk</td>\n",
       "      <td>False</td>\n",
       "    </tr>\n",
       "    <tr>\n",
       "      <th>198</th>\n",
       "      <td>199</td>\n",
       "      <td>Cory</td>\n",
       "      <td>Burke</td>\n",
       "      <td>5</td>\n",
       "      <td>Data Science</td>\n",
       "      <td>6</td>\n",
       "      <td>Product</td>\n",
       "      <td>4503801837460110</td>\n",
       "      <td>105</td>\n",
       "      <td>1</td>\n",
       "      <td>...</td>\n",
       "      <td>76.62</td>\n",
       "      <td>83.05</td>\n",
       "      <td>90.92</td>\n",
       "      <td>-7.86</td>\n",
       "      <td>D</td>\n",
       "      <td>D</td>\n",
       "      <td>False</td>\n",
       "      <td>0.302252</td>\n",
       "      <td>Moderate Risk</td>\n",
       "      <td>False</td>\n",
       "    </tr>\n",
       "    <tr>\n",
       "      <th>199</th>\n",
       "      <td>200</td>\n",
       "      <td>Alicia</td>\n",
       "      <td>Farley</td>\n",
       "      <td>7</td>\n",
       "      <td>QA</td>\n",
       "      <td>4</td>\n",
       "      <td>Marketing</td>\n",
       "      <td>4459191384097440</td>\n",
       "      <td>158</td>\n",
       "      <td>0</td>\n",
       "      <td>...</td>\n",
       "      <td>71.50</td>\n",
       "      <td>83.46</td>\n",
       "      <td>51.67</td>\n",
       "      <td>-2.91</td>\n",
       "      <td>A</td>\n",
       "      <td>D</td>\n",
       "      <td>False</td>\n",
       "      <td>0.035952</td>\n",
       "      <td>Low Risk</td>\n",
       "      <td>False</td>\n",
       "    </tr>\n",
       "  </tbody>\n",
       "</table>\n",
       "<p>200 rows × 36 columns</p>\n",
       "</div>"
      ],
      "text/plain": [
       "     emp_id emp_firstname emp_lastname  team_id     team_name  department_id  \\\n",
       "0         1        Robert        Price        7            QA              8   \n",
       "1         2       Frances      Cochran        1            AI              2   \n",
       "2         3      Jonathan        Perry        9      Security              6   \n",
       "3         4           Jon     Crawford        8        Mobile              5   \n",
       "4         5        Daniel        Smith        1            AI              5   \n",
       "..      ...           ...          ...      ...           ...            ...   \n",
       "195     196       Cynthia       Barnes        4       Backend              4   \n",
       "196     197         Wayne       Curtis        5  Data Science              5   \n",
       "197     198         Jorge       Miller        7            QA              8   \n",
       "198     199          Cory        Burke        5  Data Science              6   \n",
       "199     200        Alicia       Farley        7            QA              4   \n",
       "\n",
       "      department_name           card_id  on_site_days  is_on_site  ...  \\\n",
       "0    Customer Support  4835012087320540           135           1  ...   \n",
       "1         Engineering  4657016181544010            77           1  ...   \n",
       "2             Product  4736011345354630           148           1  ...   \n",
       "3             Finance  4718662102507140           188           1  ...   \n",
       "4             Finance  4354103335855230           104           1  ...   \n",
       "..                ...               ...           ...         ...  ...   \n",
       "195         Marketing  4391645925253450           181           1  ...   \n",
       "196           Finance  4164274234036860           103           0  ...   \n",
       "197  Customer Support  4910751946941610           184           0  ...   \n",
       "198           Product  4503801837460110           105           1  ...   \n",
       "199         Marketing  4459191384097440           158           0  ...   \n",
       "\n",
       "     performance_last_3_months  performance_last_6_months  \\\n",
       "0                        98.98                      78.80   \n",
       "1                        86.35                      54.52   \n",
       "2                        53.66                      91.83   \n",
       "3                        77.96                      77.02   \n",
       "4                        59.52                      83.14   \n",
       "..                         ...                        ...   \n",
       "195                      62.51                      91.46   \n",
       "196                      67.18                      94.06   \n",
       "197                      87.21                      88.91   \n",
       "198                      76.62                      83.05   \n",
       "199                      71.50                      83.46   \n",
       "\n",
       "     performance_last_12_months  performance_change_3_to_12_months  \\\n",
       "0                         71.51                              14.62   \n",
       "1                         54.48                             -14.77   \n",
       "2                         94.40                              -1.80   \n",
       "3                         59.11                              14.33   \n",
       "4                         76.53                              13.46   \n",
       "..                          ...                                ...   \n",
       "195                       59.02                             -17.05   \n",
       "196                       84.60                               4.94   \n",
       "197                       97.01                              -2.80   \n",
       "198                       90.92                              -7.86   \n",
       "199                       51.67                              -2.91   \n",
       "\n",
       "    performance_grade last_performance_grade resign  attrition_score  \\\n",
       "0                   D                      A   True         0.799646   \n",
       "1                   B                      F  False         0.029061   \n",
       "2                   F                      D  False         0.607111   \n",
       "3                   B                      C  False         0.027803   \n",
       "4                   F                      A   True         0.920683   \n",
       "..                ...                    ...    ...              ...   \n",
       "195                 C                      D   True         0.891173   \n",
       "196                 B                      F  False         0.054471   \n",
       "197                 B                      B  False         0.044627   \n",
       "198                 D                      D  False         0.302252   \n",
       "199                 A                      D  False         0.035952   \n",
       "\n",
       "         risk_group  resign_in_3_months  \n",
       "0    Very High Risk                True  \n",
       "1          Low Risk               False  \n",
       "2         High Risk               False  \n",
       "3          Low Risk               False  \n",
       "4    Very High Risk                True  \n",
       "..              ...                 ...  \n",
       "195  Very High Risk                True  \n",
       "196        Low Risk               False  \n",
       "197        Low Risk               False  \n",
       "198   Moderate Risk               False  \n",
       "199        Low Risk               False  \n",
       "\n",
       "[200 rows x 36 columns]"
      ]
     },
     "execution_count": 5,
     "metadata": {},
     "output_type": "execute_result"
    }
   ],
   "source": [
    "employee_df = pd.read_excel(\"../data/input/single_view_with_attrition_score.xlsx\")\n",
    "employee_df"
   ]
  },
  {
   "cell_type": "code",
   "execution_count": 6,
   "id": "ffb1bcbe-25ac-43fc-b6f6-becda1552361",
   "metadata": {},
   "outputs": [
    {
     "data": {
      "text/plain": [
       "Index(['emp_id', 'emp_firstname', 'emp_lastname', 'team_id', 'team_name',\n",
       "       'department_id', 'department_name', 'card_id', 'on_site_days',\n",
       "       'is_on_site', 'sprint_id', 'is_on_target', 'last_performance_score',\n",
       "       'performance_score', 'sprint_start_date', 'sprint_end_date',\n",
       "       'sprint_goal', 'sprint_success_rate', 'is_sprint_on_target',\n",
       "       'total_check_ins', 'total_check_outs', 'attendance_consistency',\n",
       "       'performance_rolling_avg', 'low_on_site_flag', 'sprints_participated',\n",
       "       'avg_sprint_success_rate', 'performance_last_3_months',\n",
       "       'performance_last_6_months', 'performance_last_12_months',\n",
       "       'performance_change_3_to_12_months', 'performance_grade',\n",
       "       'last_performance_grade', 'resign', 'attrition_score', 'risk_group',\n",
       "       'resign_in_3_months'],\n",
       "      dtype='object')"
      ]
     },
     "execution_count": 6,
     "metadata": {},
     "output_type": "execute_result"
    }
   ],
   "source": [
    "employee_df.columns"
   ]
  },
  {
   "cell_type": "code",
   "execution_count": 7,
   "id": "3ec85e98-3d3f-4c9d-9c21-32580a8a9c79",
   "metadata": {},
   "outputs": [],
   "source": [
    "from langchain_community.utilities import SQLDatabase\n",
    "from sqlalchemy import create_engine"
   ]
  },
  {
   "cell_type": "code",
   "execution_count": 8,
   "id": "cf59c0af-0115-4c51-8886-ef973a157e55",
   "metadata": {},
   "outputs": [],
   "source": [
    "# SQLite connects to file-based databases\n",
    "engine = create_engine(\"sqlite:///employee.db\")"
   ]
  },
  {
   "cell_type": "code",
   "execution_count": 9,
   "id": "a7922f3e-d16b-416d-8460-96da6ebaf283",
   "metadata": {},
   "outputs": [
    {
     "data": {
      "text/plain": [
       "200"
      ]
     },
     "execution_count": 9,
     "metadata": {},
     "output_type": "execute_result"
    }
   ],
   "source": [
    "employee_df.to_sql('employee_single_view', con=engine, index=False, if_exists=\"replace\")"
   ]
  },
  {
   "cell_type": "code",
   "execution_count": 10,
   "id": "ce5c2783-25cf-4fd9-a242-e6b030c77240",
   "metadata": {},
   "outputs": [],
   "source": [
    "db = SQLDatabase(engine=engine)"
   ]
  },
  {
   "cell_type": "code",
   "execution_count": 11,
   "id": "eb80190e-d831-413a-8301-83ec37a286ab",
   "metadata": {},
   "outputs": [
    {
     "name": "stdout",
     "output_type": "stream",
     "text": [
      "sqlite\n",
      "['employee_single_view']\n",
      "[(5, 'Daniel', 'Smith', 1, 'AI', 5, 'Finance', 4354103335855230, 104, 1, 5, 0, 91.65, 52.93, '2023-04-28 00:00:00.000000', None, 'Fire approach from fish then.', 0.98, 0, 75, 26, 0.62, 75.4, 1, 10, 0.77, 59.52, 83.14, 76.53, 13.46, 'F', 'A', 1, 0.920683026313782, 'Very High Risk', 1)]\n"
     ]
    }
   ],
   "source": [
    "print(db.dialect)\n",
    "print(db.get_usable_table_names())\n",
    "print(db.run(\"SELECT * FROM employee_single_view WHERE attrition_score > 0.8 LIMIT 1;\"))"
   ]
  },
  {
   "cell_type": "code",
   "execution_count": 12,
   "id": "0ad1ce4f-6c1c-4a15-a7b5-4c289dda70ce",
   "metadata": {},
   "outputs": [
    {
     "name": "stdout",
     "output_type": "stream",
     "text": [
      "[(200,)]\n"
     ]
    }
   ],
   "source": [
    "print(db.run(\"SELECT count(*) FROM employee_single_view;\"))"
   ]
  },
  {
   "cell_type": "code",
   "execution_count": null,
   "id": "f587883c-a41d-45fd-8024-ef5b9fa24c48",
   "metadata": {},
   "outputs": [],
   "source": []
  }
 ],
 "metadata": {
  "kernelspec": {
   "display_name": "Python 3 (ipykernel)",
   "language": "python",
   "name": "python3"
  },
  "language_info": {
   "codemirror_mode": {
    "name": "ipython",
    "version": 3
   },
   "file_extension": ".py",
   "mimetype": "text/x-python",
   "name": "python",
   "nbconvert_exporter": "python",
   "pygments_lexer": "ipython3",
   "version": "3.10.4"
  }
 },
 "nbformat": 4,
 "nbformat_minor": 5
}

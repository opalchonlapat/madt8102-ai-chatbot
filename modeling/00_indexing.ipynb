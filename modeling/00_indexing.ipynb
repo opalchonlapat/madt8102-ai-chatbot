{
 "cells": [
  {
   "cell_type": "markdown",
   "id": "f2bb4004-34b1-4fbf-ac49-95f217ef1be2",
   "metadata": {},
   "source": [
    "# Indexing Data\n",
    "---\n",
    "Prepare policy data and employee single view data for AI agent."
   ]
  },
  {
   "cell_type": "code",
   "execution_count": 1,
   "id": "63a686cf-8df1-4244-8024-e063a298c345",
   "metadata": {},
   "outputs": [],
   "source": [
    "from dotenv import load_dotenv"
   ]
  },
  {
   "cell_type": "code",
   "execution_count": 2,
   "id": "d71e20f3-bd63-4598-a9b3-0324fe02c39d",
   "metadata": {},
   "outputs": [
    {
     "data": {
      "text/plain": [
       "True"
      ]
     },
     "execution_count": 2,
     "metadata": {},
     "output_type": "execute_result"
    }
   ],
   "source": [
    "load_dotenv(override=True)"
   ]
  },
  {
   "cell_type": "markdown",
   "id": "c8da2031-8c39-4015-9ad6-01ab5156b7d6",
   "metadata": {},
   "source": [
    "## Policy Data\n",
    "---\n",
    "I will prepare policy data as vector database and then convert it to retrieval tool for AI agent."
   ]
  },
  {
   "cell_type": "code",
   "execution_count": 17,
   "id": "07daf42b-ef01-4dce-803a-1f7293bc8afc",
   "metadata": {},
   "outputs": [
    {
     "name": "stdout",
     "output_type": "stream",
     "text": [
      "9485\n"
     ]
    }
   ],
   "source": [
    "with open('../data/input/attendance_policy.md', 'r') as f:\n",
    "    policy_text = f.read()\n",
    "print(len(policy_text))"
   ]
  },
  {
   "cell_type": "code",
   "execution_count": 18,
   "id": "bf3869db-195b-4f11-a139-7ac8aceede08",
   "metadata": {},
   "outputs": [
    {
     "name": "stdout",
     "output_type": "stream",
     "text": [
      "# Company Attendance Policy\n",
      "\n",
      "**1. Purpose and Scope**    \n",
      "The Attendance Policy aims to set clear expectations for employee attendance, promote a productive work environment, and ensure fairness and consistency across the organization. Attendance is a critical factor that impacts the workflow, team dynamics, and overall company performance. This policy applies to all full-time, part-time, and contract employees, regardless of department or seniority, and ensures that all individuals are aware of their responsibilities regarding attendance.\n",
      "\n",
      "**2. General Expectations**    \n",
      "Employees are expected to maintain regular, punctual attendance to ensure smooth workflow and minimal disruption to team activities. Consistent attendance is essential for both individual performance and overall team productivity. Employees should report to work on time, be ready to fulfill their responsibilities during assigned hours, and demonstrate reliability by maintaining a predictable work schedule. If an emplo\n"
     ]
    }
   ],
   "source": [
    "print(policy_text[:1000])"
   ]
  },
  {
   "cell_type": "code",
   "execution_count": 19,
   "id": "0f01d48f-4985-4281-bb45-7cb3de897367",
   "metadata": {},
   "outputs": [],
   "source": [
    "import re"
   ]
  },
  {
   "cell_type": "code",
   "execution_count": 20,
   "id": "4e45dce5-f25f-48cf-b956-e33d12908b6b",
   "metadata": {},
   "outputs": [],
   "source": [
    "pattern = r'(\\*\\*\\d+\\. [^*]+\\*\\*[^*]+(?:\\n[^*]+)*)'\n",
    "matches = re.findall(pattern, policy_text)"
   ]
  },
  {
   "cell_type": "code",
   "execution_count": 21,
   "id": "a7218c71-20ee-4b82-a3cc-6ad878dd92b9",
   "metadata": {},
   "outputs": [
    {
     "data": {
      "text/plain": [
       "12"
      ]
     },
     "execution_count": 21,
     "metadata": {},
     "output_type": "execute_result"
    }
   ],
   "source": [
    "# expected 12 policies\n",
    "len(matches)"
   ]
  },
  {
   "cell_type": "code",
   "execution_count": 22,
   "id": "965348dc-c4ce-4bf3-897d-56a533b08ac6",
   "metadata": {},
   "outputs": [
    {
     "name": "stdout",
     "output_type": "stream",
     "text": [
      "**1. Purpose and Scope**    \n",
      "The Attendance Policy aims to set clear expectations for employee attendance, promote a productive work environment, and ensure fairness and consistency across the organization. Attendance is a critical factor that impacts the workflow, team dynamics, and overall company performance. This policy applies to all full-time, part-time, and contract employees, regardless of department or seniority, and ensures that all individuals are aware of their responsibilities regarding attendance.\n",
      "--------------------\n",
      "**2. General Expectations**    \n",
      "Employees are expected to maintain regular, punctual attendance to ensure smooth workflow and minimal disruption to team activities. Consistent attendance is essential for both individual performance and overall team productivity. Employees should report to work on time, be ready to fulfill their responsibilities during assigned hours, and demonstrate reliability by maintaining a predictable work schedule. If an employee foresees any issues with attendance, they are encouraged to communicate with their supervisor to address potential challenges proactively.\n",
      "--------------------\n",
      "**3. Work Schedule**    \n",
      "- Regular working hours are from [insert time, e.g., 9:00 AM to 5:00 PM], Monday through Friday. Employees are expected to adhere to these hours unless otherwise specified.    \n",
      "- Employees are expected to take scheduled breaks (e.g., a 1-hour lunch break and two 15-minute breaks) and ensure adherence to standard working hours. Breaks are designed to promote well-being, productivity, and mental refreshment, which in turn leads to better performance and focus.  \n",
      "- Supervisors may occasionally adjust work hours to accommodate specific project needs, deadlines, or operational requirements. Employees will be informed in advance regarding any schedule modifications.\n",
      "--------------------\n"
     ]
    }
   ],
   "source": [
    "for m in matches[:3]:\n",
    "    print(m.strip())\n",
    "    print(\"-\" * 20)"
   ]
  },
  {
   "cell_type": "code",
   "execution_count": 23,
   "id": "02dbbad6-8941-4e1d-bfd1-e338a0e245f6",
   "metadata": {},
   "outputs": [],
   "source": [
    "policy_chunks = [m.strip() for m in matches]"
   ]
  },
  {
   "cell_type": "code",
   "execution_count": 24,
   "id": "cc38d14f-d8a6-42c2-b3df-3f6e7028aa17",
   "metadata": {},
   "outputs": [],
   "source": [
    "from langchain_core.documents import Document"
   ]
  },
  {
   "cell_type": "code",
   "execution_count": 25,
   "id": "f9627b85-0e1f-4d7e-8208-1a458aaf2d45",
   "metadata": {},
   "outputs": [
    {
     "name": "stdout",
     "output_type": "stream",
     "text": [
      "12\n"
     ]
    }
   ],
   "source": [
    "policy_docs = []\n",
    "for c in policy_chunks:\n",
    "    doc = Document(page_content=c)\n",
    "    policy_docs.append(doc)\n",
    "\n",
    "print(len(policy_docs))"
   ]
  },
  {
   "cell_type": "code",
   "execution_count": 26,
   "id": "488d6d40-c9cf-42f8-b096-ec149750515f",
   "metadata": {},
   "outputs": [
    {
     "data": {
      "text/plain": [
       "Document(metadata={}, page_content='**1. Purpose and Scope**    \\nThe Attendance Policy aims to set clear expectations for employee attendance, promote a productive work environment, and ensure fairness and consistency across the organization. Attendance is a critical factor that impacts the workflow, team dynamics, and overall company performance. This policy applies to all full-time, part-time, and contract employees, regardless of department or seniority, and ensures that all individuals are aware of their responsibilities regarding attendance.')"
      ]
     },
     "execution_count": 26,
     "metadata": {},
     "output_type": "execute_result"
    }
   ],
   "source": [
    "policy_docs[0]"
   ]
  },
  {
   "cell_type": "code",
   "execution_count": 31,
   "id": "ff14d601-f45a-498f-82e4-f1099ed1a094",
   "metadata": {},
   "outputs": [],
   "source": [
    "from langchain_openai import AzureOpenAIEmbeddings"
   ]
  },
  {
   "cell_type": "code",
   "execution_count": 32,
   "id": "4dc6dace-d327-4c50-ac58-1ad995ede50a",
   "metadata": {},
   "outputs": [],
   "source": [
    "# initialize\n",
    "openai_api_version = \"2024-02-01\"\n",
    "embedding_azure_deployment = \"text-embedding-3-large\"\n",
    "embeddings = AzureOpenAIEmbeddings(\n",
    "    azure_deployment=embedding_azure_deployment,\n",
    "    openai_api_version=openai_api_version,\n",
    ")"
   ]
  },
  {
   "cell_type": "code",
   "execution_count": 33,
   "id": "3490f761-ff78-4f59-843d-39748433bee8",
   "metadata": {},
   "outputs": [],
   "source": [
    "from langchain_chroma import Chroma"
   ]
  },
  {
   "cell_type": "code",
   "execution_count": 47,
   "id": "577ea0eb-4edc-456f-81c4-e136532f3a8b",
   "metadata": {},
   "outputs": [],
   "source": [
    "vector_store = Chroma(\n",
    "    collection_name=\"attendance_policy\",\n",
    "    embedding_function=embeddings,\n",
    "    persist_directory=\"./vector_store\",\n",
    ")"
   ]
  },
  {
   "cell_type": "code",
   "execution_count": 48,
   "id": "2e2a628d-e478-4452-b4f2-6113513bbcbc",
   "metadata": {},
   "outputs": [
    {
     "data": {
      "text/plain": [
       "['4d389fa8-1085-4bc3-82cd-9ffa18ae8a5c',\n",
       " 'ec33b588-55a6-4e94-8989-bf6d8d8d1549',\n",
       " 'aa9ecfb3-ceaa-4bce-92dc-816121a2928a',\n",
       " '305741c7-771b-4161-ad63-fb8b8381e25f',\n",
       " '111259e3-3cd7-4181-b8ac-cd069372c28c',\n",
       " 'b595413b-f0c8-44bf-9a13-dfecd1a242f6',\n",
       " '8adccb15-adb5-433e-ab00-afc26f3075ff',\n",
       " '22624255-715e-4e4e-8293-1538efad53f8',\n",
       " 'f2baf522-1155-44b6-8e36-fc6df085c182',\n",
       " '3a09373d-8c77-4812-8edf-c4f9f0fb2b21',\n",
       " '96a99e9e-5bdb-4973-b2b7-0472ae345770',\n",
       " 'e962f1a0-2621-46fa-b6d9-def0bb7ba73c']"
      ]
     },
     "execution_count": 48,
     "metadata": {},
     "output_type": "execute_result"
    }
   ],
   "source": [
    "vector_store.add_documents(policy_docs)"
   ]
  },
  {
   "cell_type": "code",
   "execution_count": 49,
   "id": "b2cb123c-3253-4f68-a2ed-5bc4e0a12693",
   "metadata": {},
   "outputs": [
    {
     "data": {
      "text/plain": [
       "12"
      ]
     },
     "execution_count": 49,
     "metadata": {},
     "output_type": "execute_result"
    }
   ],
   "source": [
    "vector_store._collection.count()"
   ]
  },
  {
   "cell_type": "markdown",
   "id": "5ffe04b7-ad3e-425b-bae0-b4a84a1f1832",
   "metadata": {},
   "source": [
    "## Employee Single View\n",
    "---\n",
    "LangChain recommends to interact with CSV data by SQL then I will crete `sqlite` database for the employee single view data."
   ]
  },
  {
   "cell_type": "code",
   "execution_count": 38,
   "id": "50e9ccdd-6917-4edf-ad25-07b0681ae7e2",
   "metadata": {},
   "outputs": [],
   "source": [
    "import pandas as pd"
   ]
  },
  {
   "cell_type": "code",
   "execution_count": 39,
   "id": "5fc6cc25-5d82-4c04-8ee4-be85038119ef",
   "metadata": {},
   "outputs": [
    {
     "data": {
      "text/html": [
       "<div>\n",
       "<style scoped>\n",
       "    .dataframe tbody tr th:only-of-type {\n",
       "        vertical-align: middle;\n",
       "    }\n",
       "\n",
       "    .dataframe tbody tr th {\n",
       "        vertical-align: top;\n",
       "    }\n",
       "\n",
       "    .dataframe thead th {\n",
       "        text-align: right;\n",
       "    }\n",
       "</style>\n",
       "<table border=\"1\" class=\"dataframe\">\n",
       "  <thead>\n",
       "    <tr style=\"text-align: right;\">\n",
       "      <th></th>\n",
       "      <th>EmployeeID</th>\n",
       "      <th>Age</th>\n",
       "      <th>Gender</th>\n",
       "      <th>MaritalStatus</th>\n",
       "      <th>EducationLevel</th>\n",
       "      <th>Dependents</th>\n",
       "      <th>TenureMonths</th>\n",
       "      <th>Department</th>\n",
       "      <th>JobRole</th>\n",
       "      <th>EmploymentType</th>\n",
       "      <th>...</th>\n",
       "      <th>TeamEngagementIndex</th>\n",
       "      <th>WellnessProgramParticipation</th>\n",
       "      <th>AbsenceDaysLast6Months</th>\n",
       "      <th>SickLeaveFrequency</th>\n",
       "      <th>LateArrivalsFrequency</th>\n",
       "      <th>CommuteTimeMinutes</th>\n",
       "      <th>JobMarketIndex</th>\n",
       "      <th>Resigned</th>\n",
       "      <th>AttritionScore</th>\n",
       "      <th>AttritionCategory</th>\n",
       "    </tr>\n",
       "  </thead>\n",
       "  <tbody>\n",
       "    <tr>\n",
       "      <th>0</th>\n",
       "      <td>1</td>\n",
       "      <td>50</td>\n",
       "      <td>Female</td>\n",
       "      <td>Single</td>\n",
       "      <td>Bachelor</td>\n",
       "      <td>3</td>\n",
       "      <td>168</td>\n",
       "      <td>Sales</td>\n",
       "      <td>Manager</td>\n",
       "      <td>Full-time</td>\n",
       "      <td>...</td>\n",
       "      <td>4.26</td>\n",
       "      <td>0</td>\n",
       "      <td>7</td>\n",
       "      <td>5</td>\n",
       "      <td>5</td>\n",
       "      <td>95</td>\n",
       "      <td>0.94</td>\n",
       "      <td>0</td>\n",
       "      <td>0.15</td>\n",
       "      <td>Low</td>\n",
       "    </tr>\n",
       "    <tr>\n",
       "      <th>1</th>\n",
       "      <td>2</td>\n",
       "      <td>36</td>\n",
       "      <td>Female</td>\n",
       "      <td>Married</td>\n",
       "      <td>Bachelor</td>\n",
       "      <td>0</td>\n",
       "      <td>130</td>\n",
       "      <td>Sales</td>\n",
       "      <td>Consultant</td>\n",
       "      <td>Contract</td>\n",
       "      <td>...</td>\n",
       "      <td>4.11</td>\n",
       "      <td>1</td>\n",
       "      <td>7</td>\n",
       "      <td>1</td>\n",
       "      <td>5</td>\n",
       "      <td>108</td>\n",
       "      <td>0.53</td>\n",
       "      <td>1</td>\n",
       "      <td>0.81</td>\n",
       "      <td>High</td>\n",
       "    </tr>\n",
       "    <tr>\n",
       "      <th>2</th>\n",
       "      <td>3</td>\n",
       "      <td>29</td>\n",
       "      <td>Male</td>\n",
       "      <td>Married</td>\n",
       "      <td>PhD</td>\n",
       "      <td>0</td>\n",
       "      <td>84</td>\n",
       "      <td>Finance</td>\n",
       "      <td>Consultant</td>\n",
       "      <td>Full-time</td>\n",
       "      <td>...</td>\n",
       "      <td>4.04</td>\n",
       "      <td>1</td>\n",
       "      <td>11</td>\n",
       "      <td>1</td>\n",
       "      <td>3</td>\n",
       "      <td>15</td>\n",
       "      <td>0.73</td>\n",
       "      <td>0</td>\n",
       "      <td>0.11</td>\n",
       "      <td>Low</td>\n",
       "    </tr>\n",
       "    <tr>\n",
       "      <th>3</th>\n",
       "      <td>4</td>\n",
       "      <td>42</td>\n",
       "      <td>Female</td>\n",
       "      <td>Divorced</td>\n",
       "      <td>Bachelor</td>\n",
       "      <td>1</td>\n",
       "      <td>65</td>\n",
       "      <td>IT</td>\n",
       "      <td>Developer</td>\n",
       "      <td>Full-time</td>\n",
       "      <td>...</td>\n",
       "      <td>1.75</td>\n",
       "      <td>1</td>\n",
       "      <td>0</td>\n",
       "      <td>3</td>\n",
       "      <td>14</td>\n",
       "      <td>58</td>\n",
       "      <td>0.92</td>\n",
       "      <td>1</td>\n",
       "      <td>0.81</td>\n",
       "      <td>High</td>\n",
       "    </tr>\n",
       "    <tr>\n",
       "      <th>4</th>\n",
       "      <td>5</td>\n",
       "      <td>40</td>\n",
       "      <td>Female</td>\n",
       "      <td>Divorced</td>\n",
       "      <td>PhD</td>\n",
       "      <td>3</td>\n",
       "      <td>63</td>\n",
       "      <td>Sales</td>\n",
       "      <td>Developer</td>\n",
       "      <td>Contract</td>\n",
       "      <td>...</td>\n",
       "      <td>1.35</td>\n",
       "      <td>0</td>\n",
       "      <td>10</td>\n",
       "      <td>0</td>\n",
       "      <td>14</td>\n",
       "      <td>68</td>\n",
       "      <td>0.98</td>\n",
       "      <td>1</td>\n",
       "      <td>0.76</td>\n",
       "      <td>High</td>\n",
       "    </tr>\n",
       "    <tr>\n",
       "      <th>...</th>\n",
       "      <td>...</td>\n",
       "      <td>...</td>\n",
       "      <td>...</td>\n",
       "      <td>...</td>\n",
       "      <td>...</td>\n",
       "      <td>...</td>\n",
       "      <td>...</td>\n",
       "      <td>...</td>\n",
       "      <td>...</td>\n",
       "      <td>...</td>\n",
       "      <td>...</td>\n",
       "      <td>...</td>\n",
       "      <td>...</td>\n",
       "      <td>...</td>\n",
       "      <td>...</td>\n",
       "      <td>...</td>\n",
       "      <td>...</td>\n",
       "      <td>...</td>\n",
       "      <td>...</td>\n",
       "      <td>...</td>\n",
       "      <td>...</td>\n",
       "    </tr>\n",
       "    <tr>\n",
       "      <th>195</th>\n",
       "      <td>196</td>\n",
       "      <td>40</td>\n",
       "      <td>Female</td>\n",
       "      <td>Married</td>\n",
       "      <td>Master</td>\n",
       "      <td>4</td>\n",
       "      <td>101</td>\n",
       "      <td>Finance</td>\n",
       "      <td>Developer</td>\n",
       "      <td>Contract</td>\n",
       "      <td>...</td>\n",
       "      <td>4.45</td>\n",
       "      <td>1</td>\n",
       "      <td>1</td>\n",
       "      <td>3</td>\n",
       "      <td>3</td>\n",
       "      <td>25</td>\n",
       "      <td>0.05</td>\n",
       "      <td>1</td>\n",
       "      <td>0.72</td>\n",
       "      <td>Medium</td>\n",
       "    </tr>\n",
       "    <tr>\n",
       "      <th>196</th>\n",
       "      <td>197</td>\n",
       "      <td>41</td>\n",
       "      <td>Male</td>\n",
       "      <td>Divorced</td>\n",
       "      <td>Bachelor</td>\n",
       "      <td>1</td>\n",
       "      <td>149</td>\n",
       "      <td>Finance</td>\n",
       "      <td>Analyst</td>\n",
       "      <td>Part-time</td>\n",
       "      <td>...</td>\n",
       "      <td>2.26</td>\n",
       "      <td>0</td>\n",
       "      <td>14</td>\n",
       "      <td>8</td>\n",
       "      <td>1</td>\n",
       "      <td>101</td>\n",
       "      <td>0.62</td>\n",
       "      <td>0</td>\n",
       "      <td>0.23</td>\n",
       "      <td>Low</td>\n",
       "    </tr>\n",
       "    <tr>\n",
       "      <th>197</th>\n",
       "      <td>198</td>\n",
       "      <td>53</td>\n",
       "      <td>Male</td>\n",
       "      <td>Divorced</td>\n",
       "      <td>PhD</td>\n",
       "      <td>3</td>\n",
       "      <td>90</td>\n",
       "      <td>Marketing</td>\n",
       "      <td>Manager</td>\n",
       "      <td>Part-time</td>\n",
       "      <td>...</td>\n",
       "      <td>3.15</td>\n",
       "      <td>0</td>\n",
       "      <td>4</td>\n",
       "      <td>6</td>\n",
       "      <td>5</td>\n",
       "      <td>109</td>\n",
       "      <td>0.21</td>\n",
       "      <td>0</td>\n",
       "      <td>0.14</td>\n",
       "      <td>Low</td>\n",
       "    </tr>\n",
       "    <tr>\n",
       "      <th>198</th>\n",
       "      <td>199</td>\n",
       "      <td>28</td>\n",
       "      <td>Female</td>\n",
       "      <td>Married</td>\n",
       "      <td>Bachelor</td>\n",
       "      <td>1</td>\n",
       "      <td>110</td>\n",
       "      <td>IT</td>\n",
       "      <td>Consultant</td>\n",
       "      <td>Full-time</td>\n",
       "      <td>...</td>\n",
       "      <td>4.36</td>\n",
       "      <td>1</td>\n",
       "      <td>19</td>\n",
       "      <td>2</td>\n",
       "      <td>2</td>\n",
       "      <td>11</td>\n",
       "      <td>0.59</td>\n",
       "      <td>0</td>\n",
       "      <td>0.10</td>\n",
       "      <td>Low</td>\n",
       "    </tr>\n",
       "    <tr>\n",
       "      <th>199</th>\n",
       "      <td>200</td>\n",
       "      <td>54</td>\n",
       "      <td>Male</td>\n",
       "      <td>Divorced</td>\n",
       "      <td>Bachelor</td>\n",
       "      <td>4</td>\n",
       "      <td>164</td>\n",
       "      <td>Sales</td>\n",
       "      <td>Manager</td>\n",
       "      <td>Full-time</td>\n",
       "      <td>...</td>\n",
       "      <td>4.96</td>\n",
       "      <td>0</td>\n",
       "      <td>5</td>\n",
       "      <td>2</td>\n",
       "      <td>6</td>\n",
       "      <td>42</td>\n",
       "      <td>0.11</td>\n",
       "      <td>0</td>\n",
       "      <td>0.13</td>\n",
       "      <td>Low</td>\n",
       "    </tr>\n",
       "  </tbody>\n",
       "</table>\n",
       "<p>200 rows × 34 columns</p>\n",
       "</div>"
      ],
      "text/plain": [
       "     EmployeeID  Age  Gender MaritalStatus EducationLevel  Dependents  \\\n",
       "0             1   50  Female        Single       Bachelor           3   \n",
       "1             2   36  Female       Married       Bachelor           0   \n",
       "2             3   29    Male       Married            PhD           0   \n",
       "3             4   42  Female      Divorced       Bachelor           1   \n",
       "4             5   40  Female      Divorced            PhD           3   \n",
       "..          ...  ...     ...           ...            ...         ...   \n",
       "195         196   40  Female       Married         Master           4   \n",
       "196         197   41    Male      Divorced       Bachelor           1   \n",
       "197         198   53    Male      Divorced            PhD           3   \n",
       "198         199   28  Female       Married       Bachelor           1   \n",
       "199         200   54    Male      Divorced       Bachelor           4   \n",
       "\n",
       "     TenureMonths Department     JobRole EmploymentType  ...  \\\n",
       "0             168      Sales     Manager      Full-time  ...   \n",
       "1             130      Sales  Consultant       Contract  ...   \n",
       "2              84    Finance  Consultant      Full-time  ...   \n",
       "3              65         IT   Developer      Full-time  ...   \n",
       "4              63      Sales   Developer       Contract  ...   \n",
       "..            ...        ...         ...            ...  ...   \n",
       "195           101    Finance   Developer       Contract  ...   \n",
       "196           149    Finance     Analyst      Part-time  ...   \n",
       "197            90  Marketing     Manager      Part-time  ...   \n",
       "198           110         IT  Consultant      Full-time  ...   \n",
       "199           164      Sales     Manager      Full-time  ...   \n",
       "\n",
       "    TeamEngagementIndex  WellnessProgramParticipation  AbsenceDaysLast6Months  \\\n",
       "0                  4.26                             0                       7   \n",
       "1                  4.11                             1                       7   \n",
       "2                  4.04                             1                      11   \n",
       "3                  1.75                             1                       0   \n",
       "4                  1.35                             0                      10   \n",
       "..                  ...                           ...                     ...   \n",
       "195                4.45                             1                       1   \n",
       "196                2.26                             0                      14   \n",
       "197                3.15                             0                       4   \n",
       "198                4.36                             1                      19   \n",
       "199                4.96                             0                       5   \n",
       "\n",
       "     SickLeaveFrequency  LateArrivalsFrequency  CommuteTimeMinutes  \\\n",
       "0                     5                      5                  95   \n",
       "1                     1                      5                 108   \n",
       "2                     1                      3                  15   \n",
       "3                     3                     14                  58   \n",
       "4                     0                     14                  68   \n",
       "..                  ...                    ...                 ...   \n",
       "195                   3                      3                  25   \n",
       "196                   8                      1                 101   \n",
       "197                   6                      5                 109   \n",
       "198                   2                      2                  11   \n",
       "199                   2                      6                  42   \n",
       "\n",
       "     JobMarketIndex  Resigned  AttritionScore  AttritionCategory  \n",
       "0              0.94         0            0.15                Low  \n",
       "1              0.53         1            0.81               High  \n",
       "2              0.73         0            0.11                Low  \n",
       "3              0.92         1            0.81               High  \n",
       "4              0.98         1            0.76               High  \n",
       "..              ...       ...             ...                ...  \n",
       "195            0.05         1            0.72             Medium  \n",
       "196            0.62         0            0.23                Low  \n",
       "197            0.21         0            0.14                Low  \n",
       "198            0.59         0            0.10                Low  \n",
       "199            0.11         0            0.13                Low  \n",
       "\n",
       "[200 rows x 34 columns]"
      ]
     },
     "execution_count": 39,
     "metadata": {},
     "output_type": "execute_result"
    }
   ],
   "source": [
    "employee_df = pd.read_csv('../data/input/employee_single_view.csv')\n",
    "employee_df"
   ]
  },
  {
   "cell_type": "code",
   "execution_count": 40,
   "id": "3ec85e98-3d3f-4c9d-9c21-32580a8a9c79",
   "metadata": {},
   "outputs": [],
   "source": [
    "from langchain_community.utilities import SQLDatabase\n",
    "from sqlalchemy import create_engine"
   ]
  },
  {
   "cell_type": "code",
   "execution_count": 41,
   "id": "cf59c0af-0115-4c51-8886-ef973a157e55",
   "metadata": {},
   "outputs": [],
   "source": [
    "# SQLite connects to file-based databases\n",
    "engine = create_engine(\"sqlite:///employee.db\")"
   ]
  },
  {
   "cell_type": "code",
   "execution_count": 42,
   "id": "a7922f3e-d16b-416d-8460-96da6ebaf283",
   "metadata": {},
   "outputs": [
    {
     "data": {
      "text/plain": [
       "200"
      ]
     },
     "execution_count": 42,
     "metadata": {},
     "output_type": "execute_result"
    }
   ],
   "source": [
    "employee_df.to_sql('employee_single_view', con=engine, index=False)"
   ]
  },
  {
   "cell_type": "code",
   "execution_count": 43,
   "id": "ce5c2783-25cf-4fd9-a242-e6b030c77240",
   "metadata": {},
   "outputs": [],
   "source": [
    "db = SQLDatabase(engine=engine)"
   ]
  },
  {
   "cell_type": "code",
   "execution_count": 46,
   "id": "eb80190e-d831-413a-8301-83ec37a286ab",
   "metadata": {},
   "outputs": [
    {
     "name": "stdout",
     "output_type": "stream",
     "text": [
      "sqlite\n",
      "['employee_single_view']\n",
      "[(10, 57, 'Male', 'Divorced', 'PhD', 2, 203, 'Sales', 'Specialist', 'Contract', 'Hybrid', 115112, 4.11, 1, 20, 4, 4, 1, 30, 0, 'Rotational', 4.17, 4.27, 2.0, 2.04, 0, 6, 2, 1, 77, 0.93, 1, 0.35, 'Low')]\n"
     ]
    }
   ],
   "source": [
    "print(db.dialect)\n",
    "print(db.get_usable_table_names())\n",
    "print(db.run(\"SELECT * FROM employee_single_view WHERE Age > 50 LIMIT 1;\"))"
   ]
  },
  {
   "cell_type": "code",
   "execution_count": null,
   "id": "0ad1ce4f-6c1c-4a15-a7b5-4c289dda70ce",
   "metadata": {},
   "outputs": [],
   "source": []
  }
 ],
 "metadata": {
  "kernelspec": {
   "display_name": "Python 3 (ipykernel)",
   "language": "python",
   "name": "python3"
  },
  "language_info": {
   "codemirror_mode": {
    "name": "ipython",
    "version": 3
   },
   "file_extension": ".py",
   "mimetype": "text/x-python",
   "name": "python",
   "nbconvert_exporter": "python",
   "pygments_lexer": "ipython3",
   "version": "3.10.4"
  }
 },
 "nbformat": 4,
 "nbformat_minor": 5
}

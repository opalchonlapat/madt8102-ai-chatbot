{
 "cells": [
  {
   "cell_type": "markdown",
   "id": "992cc7d9-dc2f-4500-86f1-0dca9a6c211c",
   "metadata": {},
   "source": [
    "# Meta-Prompt\n",
    "---\n",
    "From [OpenAI Prompt Generation](https://platform.openai.com/docs/guides/prompt-generation)"
   ]
  },
  {
   "cell_type": "code",
   "execution_count": 1,
   "id": "68168e8f-4e66-420f-a986-5c037a3aa650",
   "metadata": {},
   "outputs": [],
   "source": [
    "from dotenv import load_dotenv"
   ]
  },
  {
   "cell_type": "code",
   "execution_count": 2,
   "id": "d721c1cd-8a48-40be-a5bd-c7e3ae5bd311",
   "metadata": {},
   "outputs": [
    {
     "data": {
      "text/plain": [
       "True"
      ]
     },
     "execution_count": 2,
     "metadata": {},
     "output_type": "execute_result"
    }
   ],
   "source": [
    "load_dotenv(override=True)"
   ]
  },
  {
   "cell_type": "code",
   "execution_count": 3,
   "id": "ff4dd2e7-bfce-46c0-b64d-6b57ddd2973a",
   "metadata": {},
   "outputs": [
    {
     "name": "stderr",
     "output_type": "stream",
     "text": [
      "/Users/chonlapatp/Documents/work/madt8102_final_project/.venv/lib/python3.10/site-packages/tqdm/auto.py:21: TqdmWarning: IProgress not found. Please update jupyter and ipywidgets. See https://ipywidgets.readthedocs.io/en/stable/user_install.html\n",
      "  from .autonotebook import tqdm as notebook_tqdm\n"
     ]
    }
   ],
   "source": [
    "from langchain_google_genai import *\n",
    "from langchain_openai import *\n",
    "\n",
    "llm_provider = \"azure\" \n",
    "\n",
    "# initialize\n",
    "if llm_provider == \"azure\":\n",
    "    openai_api_version = \"2024-02-01\"\n",
    "    llm_azure_deployment = \"gpt-4o\"\n",
    "    model_version = \"2024-08-06\"\n",
    "    embedding_azure_deployment = \"text-embedding-3-large\"\n",
    "    llm = AzureChatOpenAI(\n",
    "        openai_api_version=openai_api_version,\n",
    "        azure_deployment=llm_azure_deployment,\n",
    "        model_version=model_version,\n",
    "        temperature=0\n",
    "    )\n",
    "    embedding_model = AzureOpenAIEmbeddings(\n",
    "        azure_deployment=embedding_azure_deployment,\n",
    "        openai_api_version=openai_api_version,\n",
    "    )\n",
    "elif llm_provider == \"openai\":\n",
    "    llm = ChatOpenAI(\n",
    "        model=\"gpt-4o\",\n",
    "        temperature=0\n",
    "    )\n",
    "    embedding_model = OpenAIEmbeddings(\n",
    "        model=\"text-embedding-3-large\"\n",
    "    )\n",
    "elif llm_provider == \"google\":\n",
    "    llm = ChatGoogleGenerativeAI(\n",
    "        model=\"gemini-1.5-pro\",\n",
    "        temperature=0\n",
    "    )\n",
    "else:\n",
    "    raise ValueError(\"Please choose a valid LLM provider!\")\n"
   ]
  },
  {
   "cell_type": "code",
   "execution_count": 4,
   "id": "bf40bc5b-7048-43e4-b972-ba3ac1cc93d4",
   "metadata": {},
   "outputs": [
    {
     "data": {
      "text/plain": [
       "AzureChatOpenAI(client=<openai.resources.chat.completions.Completions object at 0x10e22d3c0>, async_client=<openai.resources.chat.completions.AsyncCompletions object at 0x10e22f4c0>, root_client=<openai.lib.azure.AzureOpenAI object at 0x1081aa560>, root_async_client=<openai.lib.azure.AsyncAzureOpenAI object at 0x10e22d420>, temperature=0.0, model_kwargs={}, openai_api_key=SecretStr('**********'), disabled_params={'parallel_tool_calls': None}, azure_endpoint='https://dta-openai.openai.azure.com/', deployment_name='gpt-4o', openai_api_version='2024-02-01', model_version='2024-08-06', openai_api_type='azure')"
      ]
     },
     "execution_count": 4,
     "metadata": {},
     "output_type": "execute_result"
    }
   ],
   "source": [
    "llm"
   ]
  },
  {
   "cell_type": "code",
   "execution_count": 5,
   "id": "eb096332-f925-43b5-8249-3a6e4e0501d5",
   "metadata": {},
   "outputs": [],
   "source": [
    "META_PROMPT = \"\"\"\n",
    "Given a task description or existing prompt, produce a detailed system prompt to guide a language model \\\n",
    "in completing the task effectively.\n",
    "\n",
    "# Guidelines\n",
    "\n",
    "- Understand the Task: Grasp the main objective, goals, requirements, constraints, and expected output.\n",
    "- Minimal Changes: If an existing prompt is provided, improve it only if it's simple. For complex prompts, enhance clarity and add missing elements without altering the original structure.\n",
    "- Reasoning Before Conclusions**: Encourage reasoning steps before any conclusions are reached. ATTENTION! If the user provides examples where the reasoning happens afterward, REVERSE the order! NEVER START EXAMPLES WITH CONCLUSIONS!\n",
    "    - Reasoning Order: Call out reasoning portions of the prompt and conclusion parts (specific fields by name). For each, determine the ORDER in which this is done, and whether it needs to be reversed.\n",
    "    - Conclusion, classifications, or results should ALWAYS appear last.\n",
    "- Examples: Include high-quality examples if helpful, using placeholders [in brackets] for complex elements.\n",
    "   - What kinds of examples may need to be included, how many, and whether they are complex enough to benefit from placeholders.\n",
    "- Clarity and Conciseness: Use clear, specific language. Avoid unnecessary instructions or bland statements.\n",
    "- Formatting: Use markdown features for readability. DO NOT USE ``` CODE BLOCKS UNLESS SPECIFICALLY REQUESTED.\n",
    "- Preserve User Content: If the input task or prompt includes extensive guidelines or examples, preserve them entirely, or as closely as possible. If they are vague, consider breaking down into sub-steps. Keep any details, guidelines, examples, variables, or placeholders provided by the user.\n",
    "- Constants: DO include constants in the prompt, as they are not susceptible to prompt injection. Such as guides, rubrics, and examples.\n",
    "- Output Format: Explicitly the most appropriate output format, in detail. This should include length and syntax (e.g. short sentence, paragraph, JSON, etc.)\n",
    "    - For tasks outputting well-defined or structured data (classification, JSON, etc.) bias toward outputting a JSON.\n",
    "    - JSON should never be wrapped in code blocks (```) unless explicitly requested.\n",
    "\n",
    "The final prompt you output should adhere to the following structure below. Do not include any additional commentary, only output the completed system prompt. SPECIFICALLY, do not include any additional messages at the start or end of the prompt. (e.g. no \"---\")\n",
    "\n",
    "[Concise instruction describing the task - this should be the first line in the prompt, no section header]\n",
    "\n",
    "[Additional details as needed.]\n",
    "\n",
    "[Optional sections with headings or bullet points for detailed steps.]\n",
    "\n",
    "# Steps [optional]\n",
    "\n",
    "[optional: a detailed breakdown of the steps necessary to accomplish the task]\n",
    "\n",
    "# Output Format\n",
    "\n",
    "[Specifically call out how the output should be formatted, be it response length, structure e.g. JSON, markdown, etc]\n",
    "\n",
    "# Examples [optional]\n",
    "\n",
    "[Optional: 1-3 well-defined examples with placeholders if necessary. Clearly mark where examples start and end, and what the input and output are. User placeholders as necessary.]\n",
    "[If the examples are shorter than what a realistic example is expected to be, make a reference with () explaining how real examples should be longer / shorter / different. AND USE PLACEHOLDERS! ]\n",
    "\n",
    "# Notes [optional]\n",
    "\n",
    "[optional: edge cases, details, and an area to call or repeat out specific important considerations]\n",
    "\"\"\".strip()"
   ]
  },
  {
   "cell_type": "code",
   "execution_count": 6,
   "id": "83a6dff4-08df-4735-83df-5db9eb073926",
   "metadata": {},
   "outputs": [
    {
     "name": "stdout",
     "output_type": "stream",
     "text": [
      "Given a task description or existing prompt, produce a detailed system prompt to guide a language model in completing the task effectively.\n",
      "\n",
      "# Guidelines\n",
      "\n",
      "- Understand the Task: Grasp the main objective, goals, requirements, constraints, and expected output.\n",
      "- Minimal Changes: If an existing prompt is provided, improve it only if it's simple. For complex prompts, enhance clarity and add missing elements without altering the original structure.\n",
      "- Reasoning Before Conclusions**: Encourage reasoning steps before any conclusions are reached. ATTENTION! If the user provides examples where the reasoning happens afterward, REVERSE the order! NEVER START EXAMPLES WITH CONCLUSIONS!\n",
      "    - Reasoning Order: Call out reasoning portions of the prompt and conclusion parts (specific fields by name). For each, determine the ORDER in which this is done, and whether it needs to be reversed.\n",
      "    - Conclusion, classifications, or results should ALWAYS appear last.\n",
      "- Examples: Include high-quality examples if helpful, using placeholders [in brackets] for complex elements.\n",
      "   - What kinds of examples may need to be included, how many, and whether they are complex enough to benefit from placeholders.\n",
      "- Clarity and Conciseness: Use clear, specific language. Avoid unnecessary instructions or bland statements.\n",
      "- Formatting: Use markdown features for readability. DO NOT USE ``` CODE BLOCKS UNLESS SPECIFICALLY REQUESTED.\n",
      "- Preserve User Content: If the input task or prompt includes extensive guidelines or examples, preserve them entirely, or as closely as possible. If they are vague, consider breaking down into sub-steps. Keep any details, guidelines, examples, variables, or placeholders provided by the user.\n",
      "- Constants: DO include constants in the prompt, as they are not susceptible to prompt injection. Such as guides, rubrics, and examples.\n",
      "- Output Format: Explicitly the most appropriate output format, in detail. This should include length and syntax (e.g. short sentence, paragraph, JSON, etc.)\n",
      "    - For tasks outputting well-defined or structured data (classification, JSON, etc.) bias toward outputting a JSON.\n",
      "    - JSON should never be wrapped in code blocks (```) unless explicitly requested.\n",
      "\n",
      "The final prompt you output should adhere to the following structure below. Do not include any additional commentary, only output the completed system prompt. SPECIFICALLY, do not include any additional messages at the start or end of the prompt. (e.g. no \"---\")\n",
      "\n",
      "[Concise instruction describing the task - this should be the first line in the prompt, no section header]\n",
      "\n",
      "[Additional details as needed.]\n",
      "\n",
      "[Optional sections with headings or bullet points for detailed steps.]\n",
      "\n",
      "# Steps [optional]\n",
      "\n",
      "[optional: a detailed breakdown of the steps necessary to accomplish the task]\n",
      "\n",
      "# Output Format\n",
      "\n",
      "[Specifically call out how the output should be formatted, be it response length, structure e.g. JSON, markdown, etc]\n",
      "\n",
      "# Examples [optional]\n",
      "\n",
      "[Optional: 1-3 well-defined examples with placeholders if necessary. Clearly mark where examples start and end, and what the input and output are. User placeholders as necessary.]\n",
      "[If the examples are shorter than what a realistic example is expected to be, make a reference with () explaining how real examples should be longer / shorter / different. AND USE PLACEHOLDERS! ]\n",
      "\n",
      "# Notes [optional]\n",
      "\n",
      "[optional: edge cases, details, and an area to call or repeat out specific important considerations]\n"
     ]
    }
   ],
   "source": [
    "print(META_PROMPT)"
   ]
  },
  {
   "cell_type": "code",
   "execution_count": 7,
   "id": "ea51e7f7-e66f-41a1-9b8b-0f63ac1dcacc",
   "metadata": {},
   "outputs": [],
   "source": [
    "from langchain_core.messages import HumanMessage, SystemMessage"
   ]
  },
  {
   "cell_type": "code",
   "execution_count": 8,
   "id": "2e124852-876e-4e0d-abd9-999371c071bf",
   "metadata": {},
   "outputs": [],
   "source": [
    "task_or_prompt = \"\"\"\n",
    "You are an agent designed to help HR analytics. You have 2 set of toolkits: 1. attendance policy retrieval and 2. employee single view SQL database. For attendance policy questions, you should use `get_attendance_policy` tool to get relevant policy. For employee single view, you should use sql toolkits as follows: `sql_db_list_tables` -> `sql_db_schema` -> `sql_db_query_checker` -> `sql_db_query`\n",
    "\n",
    "For SQL database-related question, create a syntactically correct SQLite query to run, then look at the results of the query and return the answer.\n",
    "Unless the user specifies a specific number of examples they wish to obtain, always limit your query to at most 5 results.\n",
    "You can order the results by a relevant column to return the most interesting examples in the database.\n",
    "Never query for all the columns from a specific table, only ask for the relevant columns given the question.\n",
    "You MUST double check your query before executing it. If you get an error while executing a query, rewrite the query and try again.\n",
    "\n",
    "DO NOT make any DML statements (INSERT, UPDATE, DELETE, DROP etc.) to the database.\n",
    "\n",
    "If the question is not related to the toolkits, inform the user that you can only answer on attendance policy and employee-related question.\n",
    "\"\"\".strip()"
   ]
  },
  {
   "cell_type": "code",
   "execution_count": 9,
   "id": "18fe45b9-bcfc-4a42-85a0-6e694fdc4ee3",
   "metadata": {},
   "outputs": [
    {
     "name": "stdout",
     "output_type": "stream",
     "text": [
      "You are an agent designed to help HR analytics. You have 2 set of toolkits: 1. attendance policy retrieval and 2. employee single view SQL database. For attendance policy questions, you should use `get_attendance_policy` tool to get relevant policy. For employee single view, you should use sql toolkits as follows: `sql_db_list_tables` -> `sql_db_schema` -> `sql_db_query_checker` -> `sql_db_query`\n",
      "\n",
      "For SQL database-related question, create a syntactically correct SQLite query to run, then look at the results of the query and return the answer.\n",
      "Unless the user specifies a specific number of examples they wish to obtain, always limit your query to at most 5 results.\n",
      "You can order the results by a relevant column to return the most interesting examples in the database.\n",
      "Never query for all the columns from a specific table, only ask for the relevant columns given the question.\n",
      "You MUST double check your query before executing it. If you get an error while executing a query, rewrite the query and try again.\n",
      "\n",
      "DO NOT make any DML statements (INSERT, UPDATE, DELETE, DROP etc.) to the database.\n",
      "\n",
      "If the question is not related to the toolkits, inform the user that you can only answer on attendance policy and employee-related question.\n"
     ]
    }
   ],
   "source": [
    "print(task_or_prompt)"
   ]
  },
  {
   "cell_type": "code",
   "execution_count": 10,
   "id": "ef2a81b9-a651-4187-bad4-d5c5d1256b78",
   "metadata": {},
   "outputs": [],
   "source": [
    "messages = [\n",
    "    SystemMessage(\n",
    "        content=META_PROMPT\n",
    "    ),\n",
    "    HumanMessage(\n",
    "        content=\"Task, Goal, or Current Prompt:\\n\" + task_or_prompt\n",
    "    )\n",
    "]"
   ]
  },
  {
   "cell_type": "code",
   "execution_count": 11,
   "id": "ab522b66-0d1b-43a5-b0fb-6ee44f4898f0",
   "metadata": {},
   "outputs": [],
   "source": [
    "response = llm.invoke(messages)"
   ]
  },
  {
   "cell_type": "code",
   "execution_count": 12,
   "id": "da6bbcb8-0092-4e65-9ee1-0d8e3da4e7a1",
   "metadata": {},
   "outputs": [
    {
     "name": "stdout",
     "output_type": "stream",
     "text": [
      "You are an agent designed to assist with HR analytics using two toolkits: attendance policy retrieval and employee single view SQL database. Follow the instructions below to effectively utilize these toolkits.\n",
      "\n",
      "- **Attendance Policy Questions**: Use the `get_attendance_policy` tool to retrieve relevant policies.\n",
      "\n",
      "- **Employee Single View SQL Database Questions**:\n",
      "  - Use the following sequence of SQL toolkits:\n",
      "    1. `sql_db_list_tables`\n",
      "    2. `sql_db_schema`\n",
      "    3. `sql_db_query_checker`\n",
      "    4. `sql_db_query`\n",
      "  - Create a syntactically correct SQLite query to address the user's question.\n",
      "  - Limit the query to at most 5 results unless the user specifies otherwise.\n",
      "  - Order the results by a relevant column to provide the most interesting examples.\n",
      "  - Only query for relevant columns, not all columns from a table.\n",
      "  - Double-check your query for correctness before execution.\n",
      "  - If an error occurs during execution, rewrite and retry the query.\n",
      "  - Do not perform any DML operations (INSERT, UPDATE, DELETE, DROP, etc.).\n",
      "\n",
      "- **Non-Toolkit Related Questions**: Inform the user that you can only assist with attendance policy and employee-related questions.\n",
      "\n",
      "# Steps\n",
      "\n",
      "1. Determine if the question is related to attendance policy or employee data.\n",
      "2. For attendance policy questions, use the `get_attendance_policy` tool.\n",
      "3. For employee data questions, follow the SQL toolkit sequence to construct and execute a query.\n",
      "4. If the question is unrelated to the toolkits, inform the user of your limitations.\n",
      "\n",
      "# Output Format\n",
      "\n",
      "- Provide a clear and concise answer based on the retrieved data or policy.\n",
      "- For SQL queries, present the results in a tabular format or as a list, highlighting key information.\n",
      "\n",
      "# Examples\n",
      "\n",
      "**Example 1: Attendance Policy Question**\n",
      "- **Input**: \"What is the policy for remote work attendance?\"\n",
      "- **Output**: Use `get_attendance_policy` to retrieve and present the relevant policy details.\n",
      "\n",
      "**Example 2: Employee Data Question**\n",
      "- **Input**: \"Show me the top 5 employees with the highest attendance this month.\"\n",
      "- **Output**: \n",
      "  - Use SQL toolkits to construct a query.\n",
      "  - Present the top 5 employees with their attendance records.\n",
      "\n",
      "# Notes\n",
      "\n",
      "- Always ensure the query is syntactically correct and relevant to the question.\n",
      "- Handle errors gracefully by rewriting and retrying queries if necessary.\n",
      "- Clearly communicate any limitations in your capabilities to the user.\n"
     ]
    }
   ],
   "source": [
    "print(response.content)"
   ]
  },
  {
   "cell_type": "code",
   "execution_count": null,
   "id": "aa2ce5e7-4f2b-4c3b-b3d1-0e3ada2c84ce",
   "metadata": {},
   "outputs": [],
   "source": []
  }
 ],
 "metadata": {
  "kernelspec": {
   "display_name": "Python 3 (ipykernel)",
   "language": "python",
   "name": "python3"
  },
  "language_info": {
   "codemirror_mode": {
    "name": "ipython",
    "version": 3
   },
   "file_extension": ".py",
   "mimetype": "text/x-python",
   "name": "python",
   "nbconvert_exporter": "python",
   "pygments_lexer": "ipython3",
   "version": "3.10.4"
  }
 },
 "nbformat": 4,
 "nbformat_minor": 5
}
